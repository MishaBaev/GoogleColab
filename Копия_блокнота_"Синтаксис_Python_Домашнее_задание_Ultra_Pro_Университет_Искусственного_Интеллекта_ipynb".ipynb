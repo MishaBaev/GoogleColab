{
  "nbformat": 4,
  "nbformat_minor": 0,
  "metadata": {
    "colab": {
      "name": "Копия блокнота \"Синтаксис Python. Домашнее задание. Ultra-Pro. Университет Искусственного Интеллекта.ipynb\"",
      "provenance": [],
      "collapsed_sections": [],
      "include_colab_link": true
    },
    "kernelspec": {
      "name": "python3",
      "display_name": "Python 3"
    }
  },
  "cells": [
    {
      "cell_type": "markdown",
      "metadata": {
        "id": "view-in-github",
        "colab_type": "text"
      },
      "source": [
        "<a href=\"https://colab.research.google.com/github/MishaBaev/GoogleColab/blob/main/%D0%9A%D0%BE%D0%BF%D0%B8%D1%8F_%D0%B1%D0%BB%D0%BE%D0%BA%D0%BD%D0%BE%D1%82%D0%B0_%22%D0%A1%D0%B8%D0%BD%D1%82%D0%B0%D0%BA%D1%81%D0%B8%D1%81_Python_%D0%94%D0%BE%D0%BC%D0%B0%D1%88%D0%BD%D0%B5%D0%B5_%D0%B7%D0%B0%D0%B4%D0%B0%D0%BD%D0%B8%D0%B5_Ultra_Pro_%D0%A3%D0%BD%D0%B8%D0%B2%D0%B5%D1%80%D1%81%D0%B8%D1%82%D0%B5%D1%82_%D0%98%D1%81%D0%BA%D1%83%D1%81%D1%81%D1%82%D0%B2%D0%B5%D0%BD%D0%BD%D0%BE%D0%B3%D0%BE_%D0%98%D0%BD%D1%82%D0%B5%D0%BB%D0%BB%D0%B5%D0%BA%D1%82%D0%B0_ipynb%22.ipynb\" target=\"_parent\"><img src=\"https://colab.research.google.com/assets/colab-badge.svg\" alt=\"Open In Colab\"/></a>"
      ]
    },
    {
      "cell_type": "markdown",
      "metadata": {
        "id": "vLMY-BcTvDL_"
      },
      "source": [
        "### Задача 1\n",
        "\n",
        "Используя все возможные известные методы, посчтитайте сумму чисел от 1 до 20 следующим способом:\n",
        "1. Перебором параметра i в цикле for. \n",
        "2. Перебором параметра i в цикле while.\n",
        "3. При помощи специальной функции для созданного списка.\n",
        "4. При помощи перебора элементов созданного списка в цикле for. \n",
        "5. При помощи перебора элементов созданного списка в цикле while."
      ]
    },
    {
      "cell_type": "markdown",
      "metadata": {
        "id": "oaJJV6VPvuhx"
      },
      "source": [
        "**Решение:**"
      ]
    },
    {
      "cell_type": "code",
      "metadata": {
        "id": "V5iefCA2vuhz",
        "colab": {
          "base_uri": "https://localhost:8080/"
        },
        "outputId": "783d7dbe-5153-4427-8b25-52d2edf1077e"
      },
      "source": [
        "# Перебор в цикле for\n",
        "n = 20\n",
        "i = 1\n",
        "s = 0\n",
        "for i in range(21):\n",
        "    s = s + i    \n",
        "print('1. Сумма чисел от 1 до 20: ',s)\n",
        " \n",
        "# Перебор в цикле while\n",
        "n = 20\n",
        "i = 1\n",
        "s = 0\n",
        "while i <= n:\n",
        "    s = s + i\n",
        "    i += 1\n",
        "print('2. Сумма чисел от 1 до 20: ',s)\n",
        " \n",
        "# С помощью функции для созданного списка\n",
        "my_list = [1,2,3,4,5,6,7,8,9,10,11,12,13,14,15,16,17,18,19,20]\n",
        "print('3. Сумма элементов списка: ',sum(my_list))\n",
        " \n",
        "# Перебор элементов списка в цикле for\n",
        "s = 0\n",
        "for x in my_list:\n",
        "    s+=x\n",
        "print('4. Сумма элементов списка: ',s)\n",
        " \n",
        "# Перебор элементов списка в цикле while\n",
        "i = 1\n",
        "s = 0\n",
        "while i <= len(my_list):\n",
        "    for x in my_list:\n",
        "        s+=x    \n",
        "        i+=1\n",
        "print('5. Сумма элементов списка: ',s)"
      ],
      "execution_count": null,
      "outputs": [
        {
          "output_type": "stream",
          "name": "stdout",
          "text": [
            "1. Сумма чисел от 1 до 20:  210\n",
            "2. Сумма чисел от 1 до 20:  210\n",
            "3. Сумма элементов списка:  210\n",
            "4. Сумма элементов списка:  210\n",
            "5. Сумма элементов списка:  210\n"
          ]
        }
      ]
    },
    {
      "cell_type": "markdown",
      "metadata": {
        "id": "m-pYH0xDhdqk"
      },
      "source": [
        "### Задача 2\n",
        "\n",
        "Используя циклы, напишите код, который создает список (list) путем конкатенации значений данного листа с целыми числами от 1 до (произвольного) n включительно.\n",
        "\n",
        "Пример:\n",
        "\n",
        "для списка [\"сосиски\", \"горчица\"] при n = 3 результат должен выглядеть так:\n",
        "\n",
        "['сосиски$\\_$1', 'горчица$\\_$1', 'сосиски$\\_2$', 'горчица$\\_$2', 'сосиски$\\_$3', 'горчица$\\_$3']"
      ]
    },
    {
      "cell_type": "code",
      "metadata": {
        "id": "Eqz3zAL-hdqq"
      },
      "source": [
        "sample_list = [\"мандаринки\", \"киви\", \"лимон\"]"
      ],
      "execution_count": null,
      "outputs": []
    },
    {
      "cell_type": "markdown",
      "metadata": {
        "id": "_anmPG8lqDql"
      },
      "source": [
        "**Решение:**"
      ]
    },
    {
      "cell_type": "code",
      "metadata": {
        "id": "eHA_26PRqDqm",
        "colab": {
          "base_uri": "https://localhost:8080/"
        },
        "outputId": "2a2dacd0-afc4-40ae-81a8-d7c643d52bcd"
      },
      "source": [
        "my_list1 = []\n",
        "n = int(input('Введите число: ',))\n",
        "i = 1\n",
        "while i <= n:\n",
        "    for x in sample_list:\n",
        "        x += '_'+str(i)\n",
        "        my_list1.append(x) \n",
        "    i += 1\n",
        "print(my_list1)"
      ],
      "execution_count": null,
      "outputs": [
        {
          "output_type": "stream",
          "name": "stdout",
          "text": [
            "Введите число: 5\n",
            "['мандаринки_1', 'киви_1', 'лимон_1', 'мандаринки_2', 'киви_2', 'лимон_2', 'мандаринки_3', 'киви_3', 'лимон_3', 'мандаринки_4', 'киви_4', 'лимон_4', 'мандаринки_5', 'киви_5', 'лимон_5']\n"
          ]
        }
      ]
    },
    {
      "cell_type": "markdown",
      "metadata": {
        "id": "WtwsV6BRhdrE"
      },
      "source": [
        "### Задача 3\n",
        "\n",
        "Напишите код, который считает количество элементов в заданном списке до тех пор, пока не встретится элемент типа словарь.\n",
        "\n",
        "Пример:\n",
        "\n",
        "для списка [3, \"котики\", 0.45, 5, {'котики' : 2, 'слоники' : 9}, \"слоники\", 34] на выходе должны получить число 4"
      ]
    },
    {
      "cell_type": "code",
      "metadata": {
        "id": "m5iv-Hj9hdrM",
        "outputId": "f0555914-ec07-420f-da65-6278f15ea4e4"
      },
      "source": [
        "list_for_pro_task_2 = [35, 0.24, 3 + 4j, \"котики\", 0.45, (8, 9), \"слоники\", {\"Мадрид\": 3, 'Лондон':5}, 23498]\n",
        "print(list_for_pro_task_2)"
      ],
      "execution_count": null,
      "outputs": [
        {
          "output_type": "stream",
          "text": [
            "[35, 0.24, (3+4j), 'котики', 0.45, (8, 9), 'слоники', {'Мадрид': 3, 'Лондон': 5}, 23498]\n"
          ],
          "name": "stdout"
        }
      ]
    },
    {
      "cell_type": "markdown",
      "metadata": {
        "id": "1gbBHwFzux7h"
      },
      "source": [
        "**Решение:**"
      ]
    },
    {
      "cell_type": "code",
      "metadata": {
        "id": "8qLexBf7ux7k"
      },
      "source": [
        ""
      ],
      "execution_count": null,
      "outputs": []
    },
    {
      "cell_type": "markdown",
      "metadata": {
        "id": "fHMBDh-ahdrz"
      },
      "source": [
        "### Задача 4\n",
        "\n",
        "Создайте словарь (dict) c ключами, соответствующими числам от 1 до 20 включительно и значениями, соответствующими квадратам ключей. \n",
        "\n",
        "P.S. Используйте циклы или функции, прямое \"ручное\" присваивание не допускается!!!\n",
        "\n",
        "Пример: \n",
        "\n",
        "для чисел от 1 до 3 включительно словарь должен выглядеть так: {1 : 1, 2 : 4, 3 : 9}"
      ]
    },
    {
      "cell_type": "markdown",
      "metadata": {
        "id": "QxTdxYntuyOE"
      },
      "source": [
        "**Решение:**"
      ]
    },
    {
      "cell_type": "code",
      "metadata": {
        "id": "RyUIe0tRuyOG"
      },
      "source": [
        ""
      ],
      "execution_count": null,
      "outputs": []
    },
    {
      "cell_type": "markdown",
      "metadata": {
        "id": "wf85TNYHv31c"
      },
      "source": [
        "### Задача 5"
      ]
    },
    {
      "cell_type": "markdown",
      "metadata": {
        "id": "QQv6xeOnv71u"
      },
      "source": [
        "**Дана** следующая строка:"
      ]
    },
    {
      "cell_type": "code",
      "metadata": {
        "id": "vZOCDnMDv6_0"
      },
      "source": [
        "string = '[0, 1, 1, 2, 3, 5, 8, 13, 21, 34, 55, 89, 144, 233, 377]'"
      ],
      "execution_count": null,
      "outputs": []
    },
    {
      "cell_type": "markdown",
      "metadata": {
        "id": "CnN6qg_2wbgH"
      },
      "source": [
        "Пройдя по символам строки, переведите строку в список. В результате должен получиться список из целых чисел. "
      ]
    }
  ]
}